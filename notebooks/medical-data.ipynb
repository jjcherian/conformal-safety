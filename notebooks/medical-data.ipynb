{
 "cells": [
  {
   "cell_type": "code",
   "execution_count": 1,
   "id": "a4aa91c4-26f4-4d0d-9b8e-e54804687873",
   "metadata": {},
   "outputs": [],
   "source": [
    "%load_ext autoreload\n",
    "%autoreload 2\n",
    "\n",
    "import numpy as np\n",
    "import pandas as pd\n",
    "import matplotlib.pyplot as plt\n",
    "import seaborn as sns\n",
    "\n",
    "import pickle\n",
    "import json\n",
    "import os\n",
    "import re\n",
    "import sys\n",
    "\n",
    "from tqdm import tqdm\n",
    "src_dir = os.path.join(os.path.abspath(os.path.join(os.getcwd(), os.pardir)), 'src')\n",
    "sys.path.append(src_dir)"
   ]
  },
  {
   "cell_type": "code",
   "execution_count": 7,
   "id": "bae3af02-3b42-4e19-a837-b18dffea03e5",
   "metadata": {},
   "outputs": [],
   "source": [
    "datasets = {}\n",
    "\n",
    "suffix = \".jsonl\"\n",
    "\n",
    "dataset_dir = \"/Users/cherian/Projects/conformal-safety/data/MedLFQAv2\"\n",
    "for path in os.listdir(dataset_dir):\n",
    "    dataset_name = path[:-len(suffix)]\n",
    "    with open(os.path.join(dataset_dir, path), 'r') as fp:\n",
    "        datasets[dataset_name] = [json.loads(line) for line in fp.readlines()]"
   ]
  },
  {
   "cell_type": "code",
   "execution_count": 8,
   "id": "5b068361-e7af-4de1-9207-e3aed0d1793f",
   "metadata": {},
   "outputs": [
    {
     "data": {
      "text/plain": [
       "dict_keys(['medication_qa', 'kqa_golden', 'live_qa', 'healthsearch_qa', 'kqa_silver_wogold'])"
      ]
     },
     "execution_count": 8,
     "metadata": {},
     "output_type": "execute_result"
    }
   ],
   "source": [
    "datasets.keys()"
   ]
  },
  {
   "cell_type": "code",
   "execution_count": null,
   "id": "cd0c511c-3e2d-48af-996e-f2b3ddeaee7d",
   "metadata": {},
   "outputs": [],
   "source": [
    "def remove_specific_leading_chars(input_string):\n",
    "    # Remove leading commas\n",
    "    input_string = re.sub(r'^,+', '', input_string)\n",
    "    # Remove numbers followed by a comma\n",
    "    return re.sub(r'^\\d+,+', '', input_string)\n",
    "    \n",
    "all_points = len([pt for dataset in datasets.values() for pt in dataset])\n",
    "\n",
    "for dataset_name, dataset in datasets.items():\n",
    "    for pt in dataset:\n",
    "        parsed_prompt = remove_specific_leading_chars(pt['Question'])\n",
    "        if parsed_prompt != pt[\"Question\"]:\n",
    "            print(pt[\"Question\"], parsed_prompt)\n",
    "        pt[\"Question\"] = parsed_prompt.strip()\n",
    "\n"
   ]
  },
  {
   "cell_type": "code",
   "execution_count": null,
   "id": "c5893989-70dc-4452-a2d1-2d055b0bc398",
   "metadata": {},
   "outputs": [],
   "source": [
    "removal = {}\n",
    "for name, dataset in datasets.items():\n",
    "    redundant_prompts = set()\n",
    "    indices_to_remove = []\n",
    "    for i, dat in enumerate(dataset):\n",
    "        if dat['Question'] in redundant_prompts:\n",
    "            indices_to_remove.append(i)\n",
    "        else:\n",
    "            redundant_prompts.add(dat[\"Question\"])\n",
    "    removal[name] = indices_to_remove\n",
    "    "
   ]
  },
  {
   "cell_type": "code",
   "execution_count": null,
   "id": "a59d3a23-e286-48f4-8888-31726351f4b7",
   "metadata": {},
   "outputs": [],
   "source": [
    "filtered_datasets = {}\n",
    "\n",
    "for name, dataset in datasets.items():\n",
    "    new_dataset = [dat for i, dat in enumerate(dataset) if i not in removal[name]]\n",
    "    filtered_datasets[name] = new_dataset\n",
    "\n"
   ]
  },
  {
   "cell_type": "code",
   "execution_count": null,
   "id": "960ef389-2bae-4168-b046-d4defba9150d",
   "metadata": {},
   "outputs": [],
   "source": [
    "removal = {}\n",
    "redundant_prompts = {}\n",
    "\n",
    "for name, dataset in filtered_datasets.items():\n",
    "    print(name)\n",
    "    for i, dat in enumerate(dataset):\n",
    "        if dat[\"Question\"] in redundant_prompts:\n",
    "            redundant_prompts[dat[\"Question\"]] += 1\n",
    "        else:\n",
    "            redundant_prompts[dat[\"Question\"]] = 1\n",
    "\n",
    "\n",
    "for name, dataset in filtered_datasets.items():\n",
    "    indices_to_remove = []\n",
    "    if name == 'kqa_golden' or name == 'live_qa': continue\n",
    "    for i, dat in enumerate(dataset):\n",
    "        if redundant_prompts[dat['Question']] > 1:\n",
    "            indices_to_remove.append(i)\n",
    "    removal[name] = indices_to_remove\n",
    "\n",
    "filtered_datasets_2 = {}\n",
    "\n",
    "for name, dataset in filtered_datasets.items():\n",
    "    new_dataset = [dat for i, dat in enumerate(dataset) if i not in removal.get(name, [])]\n",
    "    filtered_datasets_2[name] = new_dataset"
   ]
  },
  {
   "cell_type": "code",
   "execution_count": null,
   "id": "5979c711-460e-4d2b-bffc-899b7d1b38b8",
   "metadata": {},
   "outputs": [],
   "source": [
    "data_path = \"/Users/cherian/Projects/conformal-safety/data/MedLFQAv2\"\n",
    "\n",
    "for name, dataset in filtered_datasets_2.items():\n",
    "    filepath = os.path.join(data_path, f\"{name}.jsonl\")\n",
    "    with open(filepath, 'w') as outfile:\n",
    "        for dat in dataset:\n",
    "            json.dump(dat, outfile)\n",
    "            outfile.write('\\n')"
   ]
  },
  {
   "cell_type": "code",
   "execution_count": null,
   "id": "7857c613-f757-46ad-a7b4-ca5c51b0db13",
   "metadata": {},
   "outputs": [],
   "source": [
    "data_path = \"/Users/cherian/Projects/conformal-safety/data/MedLFQAv2\"\n",
    "\n",
    "datasets = {}\n",
    "\n",
    "suffix = \".jsonl\"\n",
    "\n",
    "for filename in os.listdir(data_path):\n",
    "    dataset_name = filename[:-len(suffix)]\n",
    "    filepath = os.path.join(data_path, filename)\n",
    "    # print(filepath)\n",
    "    with open(filepath, 'r') as fp:\n",
    "        datasets[dataset_name] = [json.loads(line) for line in fp.readlines()]"
   ]
  },
  {
   "cell_type": "code",
   "execution_count": null,
   "id": "0f9feceb-230d-4951-8257-4654915355b0",
   "metadata": {},
   "outputs": [],
   "source": [
    "prompts = []\n",
    "for _, dataset in datasets.items():\n",
    "    prompts.extend([pt['Question'] for pt in dataset])"
   ]
  },
  {
   "cell_type": "code",
   "execution_count": 15,
   "id": "993b1557-41d6-4ee5-87d5-918ee2deea14",
   "metadata": {},
   "outputs": [
    {
     "data": {
      "text/plain": [
       "{'Question': 'what is the imprint on metoprolol succ., 50 mg',\n",
       " 'Free_form_answer': '50 mg tablets: White, round, coated tablets debossed with Andrx logo and “831” on one side and scored on the other side.',\n",
       " 'Must_have': ['Metoprolol succinate 50 mg tablets are white, round, coated tablets debossed with Andrx logo and “831” on one side and scored on the other side.'],\n",
       " 'Nice_to_have': [\"None as the question specifically asks for the imprint and doesn't require any supplementary information.\"]}"
      ]
     },
     "execution_count": 15,
     "metadata": {},
     "output_type": "execute_result"
    }
   ],
   "source": [
    "datasets['medication_qa'][29]"
   ]
  }
 ],
 "metadata": {
  "kernelspec": {
   "display_name": "Python 3 (ipykernel)",
   "language": "python",
   "name": "python3"
  },
  "language_info": {
   "codemirror_mode": {
    "name": "ipython",
    "version": 3
   },
   "file_extension": ".py",
   "mimetype": "text/x-python",
   "name": "python",
   "nbconvert_exporter": "python",
   "pygments_lexer": "ipython3",
   "version": "3.12.1"
  }
 },
 "nbformat": 4,
 "nbformat_minor": 5
}
